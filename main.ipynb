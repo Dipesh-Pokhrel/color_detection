{
  "cells": [
    {
      "cell_type": "code",
      "execution_count": 1,
      "metadata": {
        "colab": {
          "base_uri": "https://localhost:8080/"
        },
        "id": "Zvh-TKqYGL1Z",
        "outputId": "28162e91-7172-4259-9aa9-e2249ddefcfc"
      },
      "outputs": [
        {
          "output_type": "stream",
          "name": "stdout",
          "text": [
            "Collecting dominant-color-detection\n",
            "  Downloading dominant_color_detection-0.1.8.tar.gz (3.1 kB)\n",
            "Requirement already satisfied: numpy in /usr/local/lib/python3.7/dist-packages (from dominant-color-detection) (1.21.5)\n",
            "Requirement already satisfied: Pillow in /usr/local/lib/python3.7/dist-packages (from dominant-color-detection) (7.1.2)\n",
            "Requirement already satisfied: scikit-learn in /usr/local/lib/python3.7/dist-packages (from dominant-color-detection) (1.0.2)\n",
            "Requirement already satisfied: threadpoolctl>=2.0.0 in /usr/local/lib/python3.7/dist-packages (from scikit-learn->dominant-color-detection) (3.1.0)\n",
            "Requirement already satisfied: joblib>=0.11 in /usr/local/lib/python3.7/dist-packages (from scikit-learn->dominant-color-detection) (1.1.0)\n",
            "Requirement already satisfied: scipy>=1.1.0 in /usr/local/lib/python3.7/dist-packages (from scikit-learn->dominant-color-detection) (1.4.1)\n",
            "Building wheels for collected packages: dominant-color-detection\n",
            "  Building wheel for dominant-color-detection (setup.py) ... \u001b[?25l\u001b[?25hdone\n",
            "  Created wheel for dominant-color-detection: filename=dominant_color_detection-0.1.8-py3-none-any.whl size=3748 sha256=7aa80c5df63eb0d68841bd5aa8b4e274ce69ada3c07805047f817197ff5a39dc\n",
            "  Stored in directory: /root/.cache/pip/wheels/79/5d/a6/9e344ec643e732dddb4c42406dabe62f6d94f47af4da444034\n",
            "Successfully built dominant-color-detection\n",
            "Installing collected packages: dominant-color-detection\n",
            "Successfully installed dominant-color-detection-0.1.8\n"
          ]
        }
      ],
      "source": [
        "!pip install dominant-color-detection"
      ]
    },
    {
      "cell_type": "code",
      "execution_count": 2,
      "metadata": {
        "colab": {
          "base_uri": "https://localhost:8080/"
        },
        "id": "ghEMgLIMGdAh",
        "outputId": "fcb44e8a-7404-4189-e56e-bb43a75a0ba2"
      },
      "outputs": [
        {
          "output_type": "stream",
          "name": "stdout",
          "text": [
            "Mounted at /content/drive\n"
          ]
        }
      ],
      "source": [
        "from google.colab import drive\n",
        "drive.mount('/content/drive')"
      ]
    },
    {
      "cell_type": "code",
      "execution_count": 3,
      "metadata": {
        "id": "48HPQpRZGFD0"
      },
      "outputs": [],
      "source": [
        "from dominant_color_detection import detect_colors\n",
        "import time\n",
        "import numpy as np"
      ]
    },
    {
      "cell_type": "code",
      "execution_count": 7,
      "metadata": {
        "colab": {
          "base_uri": "https://localhost:8080/"
        },
        "id": "ti_NKPSqsl3R",
        "outputId": "8d9eaf7d-625a-4144-f6ba-8e365c62be0f"
      },
      "outputs": [
        {
          "output_type": "stream",
          "name": "stdout",
          "text": [
            "['#75797b']\n"
          ]
        }
      ],
      "source": [
        "k = 1\n",
        "img_path = '/content/drive/MyDrive/Colab Notebooks/cars_test/00025.jpg'\n",
        "colors, ratios = detect_colors(img_path, k)\n",
        "print(colors)"
      ]
    },
    {
      "cell_type": "markdown",
      "metadata": {
        "id": "KclfAtI62v_9"
      },
      "source": [
        "**Converting to Color Name:**\n",
        "heuristic/fuzzy function for guessing what a color might look like from color dict."
      ]
    },
    {
      "cell_type": "code",
      "execution_count": 8,
      "metadata": {
        "id": "aQezpTZK2u9z"
      },
      "outputs": [],
      "source": [
        "color_names = {\n",
        "    '#000000': 'black',\n",
        "    '#ffffff': 'white',\n",
        "    '#808080': 'dark gray',\n",
        "    '#b0b0b0': 'light gray',\n",
        "    '#ff0000': 'red',\n",
        "    '#800000': 'dark red',\n",
        "    '#00ff00': 'green',\n",
        "    '#008000': 'darkgreen',\n",
        "    '#0000ff': 'blue',\n",
        "    '#000080': 'dark blue',\n",
        "    '#ffff00': 'yellow',\n",
        "    '#808000': 'olive',\n",
        "    '#00ffff': 'cyan',\n",
        "    '#ff00ff': 'magenta',\n",
        "    '#800080': 'purple'\n",
        "    }"
      ]
    },
    {
      "cell_type": "code",
      "execution_count": 9,
      "metadata": {
        "colab": {
          "base_uri": "https://localhost:8080/"
        },
        "id": "ypo_y-0q2vTS",
        "outputId": "22002b33-a95b-41f6-d655-a3920ad6649e"
      },
      "outputs": [
        {
          "output_type": "stream",
          "name": "stdout",
          "text": [
            "black\n",
            "purple\n"
          ]
        }
      ],
      "source": [
        "def get_color_name(hx):\n",
        "   if hx in color_names:\n",
        "      return color_names[hx]\n",
        "       # else return its closest available color\n",
        "      m = 16777215\n",
        "      k = '000000'\n",
        "      for key in colorof.keys():\n",
        "        a = int(hx[:2],16)-int(key[:2],16)\n",
        "        b = int(hx[2:4],16)-int(key[2:4],16)\n",
        "        c = int(hx[4:],16)-int(key[4:],16)\n",
        "\n",
        "        v = a*a+b*b+c*c # simple measure for distance between colors\n",
        "\n",
        "        # v = (r1 - r2)^2 + (g1 - g2)^2 + (b1 - b2)^2\n",
        "\n",
        "        if v <= m:\n",
        "            m = v\n",
        "            k = key\n",
        "\n",
        "      return colorof[k]\n",
        "\n",
        "print(get_color_name('#000000')) # found in dict\n",
        "print (get_color_name('#800080')) # closest to Antique white"
      ]
    },
    {
      "cell_type": "code",
      "execution_count": 11,
      "metadata": {
        "colab": {
          "base_uri": "https://localhost:8080/"
        },
        "id": "0yCwIeBQI92l",
        "outputId": "812579ff-eb16-4940-c6b3-c26e97b0278f"
      },
      "outputs": [
        {
          "output_type": "stream",
          "name": "stdout",
          "text": [
            "3.3778374195098877\n"
          ]
        }
      ],
      "source": [
        "k = 3\n",
        "img_path = '/content/drive/MyDrive/Colab Notebooks/cars_test/00025.jpg'\n",
        "a = time.time()\n",
        "for i in range(10):\n",
        "  colors, ratios = detect_colors(img_path, k)\n",
        "print(time.time()-a)"
      ]
    },
    {
      "cell_type": "code",
      "execution_count": 12,
      "metadata": {
        "colab": {
          "base_uri": "https://localhost:8080/"
        },
        "id": "4aJDnCs3GaWq",
        "outputId": "1230c01a-0c60-4ebb-e34e-6628d2526755"
      },
      "outputs": [
        {
          "output_type": "execute_result",
          "data": {
            "text/plain": [
              "array(['#292a27', '#848a90', '#cacfd4'], dtype='<U7')"
            ]
          },
          "metadata": {},
          "execution_count": 12
        }
      ],
      "source": [
        "colors"
      ]
    },
    {
      "cell_type": "code",
      "execution_count": 13,
      "metadata": {
        "colab": {
          "base_uri": "https://localhost:8080/"
        },
        "id": "7eTNp8j4G1A7",
        "outputId": "8e2899b6-4394-4c39-9a96-4b426eb8bc83"
      },
      "outputs": [
        {
          "output_type": "execute_result",
          "data": {
            "text/plain": [
              "array([0.38103231, 0.33605957, 0.28290812])"
            ]
          },
          "metadata": {},
          "execution_count": 13
        }
      ],
      "source": [
        "ratios"
      ]
    },
    {
      "cell_type": "code",
      "execution_count": 13,
      "metadata": {
        "id": "68LaidheG5cM"
      },
      "outputs": [],
      "source": [
        ""
      ]
    },
    {
      "cell_type": "markdown",
      "metadata": {
        "id": "6NWCfzF-qwug"
      },
      "source": [
        "Method 2:"
      ]
    },
    {
      "cell_type": "code",
      "execution_count": 14,
      "metadata": {
        "colab": {
          "base_uri": "https://localhost:8080/"
        },
        "id": "D2Q1pZ1xupuB",
        "outputId": "100f351f-4d20-4aed-ef98-72a0f114d55b"
      },
      "outputs": [
        {
          "output_type": "stream",
          "name": "stdout",
          "text": [
            "Requirement already satisfied: pillow in /usr/local/lib/python3.7/dist-packages (7.1.2)\n",
            "Collecting webcolors\n",
            "  Downloading webcolors-1.11.1-py3-none-any.whl (9.9 kB)\n",
            "Installing collected packages: webcolors\n",
            "Successfully installed webcolors-1.11.1\n",
            "Collecting KDTrees\n",
            "  Downloading kdtrees-0.1.7-py2.py3-none-any.whl (17 kB)\n",
            "Requirement already satisfied: numpy in /usr/local/lib/python3.7/dist-packages (from KDTrees) (1.21.5)\n",
            "Installing collected packages: KDTrees\n",
            "Successfully installed KDTrees-0.1.7\n",
            "\u001b[31mERROR: Invalid requirement: 'webcolors[css2_hex_to_names'\u001b[0m\n"
          ]
        }
      ],
      "source": [
        "!pip install pillow\n",
        "!pip install webcolors\n",
        "!pip install KDTrees\n",
        "!pip install webcolors[css2_hex_to_names"
      ]
    },
    {
      "cell_type": "code",
      "execution_count": 15,
      "metadata": {
        "id": "exl29ScPqW2b"
      },
      "outputs": [],
      "source": [
        "from PIL import Image\n",
        "from webcolors import rgb_to_name, CSS2_HEX_TO_NAMES"
      ]
    },
    {
      "cell_type": "code",
      "execution_count": 16,
      "metadata": {
        "colab": {
          "base_uri": "https://localhost:8080/"
        },
        "id": "-Z_-MS0zvdg6",
        "outputId": "1b2d5473-0036-4acc-bff1-015d5bd2529c"
      },
      "outputs": [
        {
          "output_type": "stream",
          "name": "stdout",
          "text": [
            "(0, 0, 0)\n",
            "black\n"
          ]
        }
      ],
      "source": [
        "im = Image.open(\"/content/drive/MyDrive/Colab Notebooks/cars_test/00025.jpg\")\n",
        "n, color = max(im.getcolors(im.size[0]*im.size[1]))\n",
        "print (color)\n",
        "named_color = rgb_to_name(color)\n",
        "print(named_color)\n"
      ]
    },
    {
      "cell_type": "code",
      "execution_count": 17,
      "metadata": {
        "id": "Cpb87aZX-TNC"
      },
      "outputs": [],
      "source": [
        "\n",
        "from scipy.spatial import KDTree\n",
        "import webcolors as wb\n",
        "# from webcolors import css3_hex_to_names, hex_to_rgb\n",
        "\n",
        "def convert_rgb_to_names(rgb_tuple):\n",
        "    \n",
        "    # a dictionary of all the hex and their respective names in css3\n",
        "    css3_db = wb.CSS3_HEX_TO_NAMES\n",
        "    names = []\n",
        "    rgb_values = []\n",
        "\n",
        "    for color_hex, color_name in css3_db.items():\n",
        "        names.append(color_name)\n",
        "        rgb_values.append(wb.hex_to_rgb(color_hex))\n",
        "    \n",
        "    kdt_db = KDTree(rgb_values)\n",
        "    distance, index = kdt_db.query(rgb_tuple)\n",
        "    return f'closest match: {names[index]}'"
      ]
    },
    {
      "cell_type": "code",
      "execution_count": 18,
      "metadata": {
        "colab": {
          "base_uri": "https://localhost:8080/"
        },
        "id": "7s5oF7P2_1wG",
        "outputId": "2327bf02-f114-46cf-a4b7-1d527e50079d"
      },
      "outputs": [
        {
          "output_type": "stream",
          "name": "stdout",
          "text": [
            "closest match: black\n"
          ]
        }
      ],
      "source": [
        "print(convert_rgb_to_names(color))"
      ]
    }
  ],
  "metadata": {
    "colab": {
      "collapsed_sections": [],
      "name": "Color Detection.ipynb",
      "provenance": []
    },
    "kernelspec": {
      "display_name": "Python 3",
      "name": "python3"
    },
    "language_info": {
      "name": "python"
    }
  },
  "nbformat": 4,
  "nbformat_minor": 0
}